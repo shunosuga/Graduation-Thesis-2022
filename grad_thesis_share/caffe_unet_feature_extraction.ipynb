{
 "cells": [
  {
   "cell_type": "code",
   "execution_count": 1,
   "metadata": {},
   "outputs": [],
   "source": [
    "import os\n",
    "import numpy as np\n",
    "import torch\n",
    "from torch import nn\n",
    "from torch.utils.data import DataLoader, TensorDataset\n",
    "from torch.optim import Adam\n",
    "from torch.optim.lr_scheduler import ExponentialLR\n",
    "from torch.autograd import Variable\n",
    "from PIL import Image\n",
    "from tqdm import tqdm\n",
    "import matplotlib.pyplot as plt\n",
    "from torchvision import models, datasets, transforms"
   ]
  },
  {
   "cell_type": "code",
   "execution_count": 2,
   "metadata": {},
   "outputs": [],
   "source": [
    "class U_Net_Encoder(nn.Module):\n",
    "    def __init__(self):\n",
    "        super(U_Net_Encoder, self).__init__()\n",
    "\n",
    "        self.conv1 = nn.Conv2d(in_channels=3, out_channels=96, kernel_size=11, stride=4, padding=0)\n",
    "            \n",
    "        self.pool1 = nn.Sequential(\n",
    "            nn.MaxPool2d(kernel_size=3, stride=2),\n",
    "            nn.LocalResponseNorm(5, alpha=0.0001, beta=0.75)\n",
    "        )\n",
    "        self.conv2 = nn.Conv2d(in_channels=96, out_channels=256, kernel_size=5, stride=1, padding=2, groups=2)\n",
    "           \n",
    "        self.pool2 = nn.Sequential(\n",
    "            nn.MaxPool2d(kernel_size=3, stride=2),\n",
    "            nn.LocalResponseNorm(5, alpha=0.0001, beta=0.75)\n",
    "        )\n",
    "        self.conv3 = nn.Conv2d(in_channels=256, out_channels=384, kernel_size=3, stride=1, padding=1)\n",
    "           \n",
    "        self.conv4 = nn.Conv2d(in_channels=384, out_channels=384, kernel_size=3, stride=1, padding=1, groups=2)\n",
    "           \n",
    "        self.conv5 = nn.Conv2d(in_channels=384, out_channels=256, kernel_size=3, stride=1, padding=1, groups=2)\n",
    "           \n",
    "        self.pool3 = nn.MaxPool2d(kernel_size=3, stride=2)\n",
    "        \n",
    "        self.fc6 = nn.Sequential(\n",
    "            nn.Flatten(),\n",
    "            nn.Linear(256*6*6, 4096),\n",
    "        )\n",
    "        self.fc7 = nn.Linear(4096, 4096)\n",
    "        \n",
    "        self.fc8 = nn.Linear(4096, 1000)\n",
    "\n",
    "        self.relu = nn.ReLU()\n",
    "        self.dropout = nn.Dropout(p=0.5)\n",
    "\n",
    "    def forward(self, x):       \n",
    "        conv1 = self.conv1(x)        # (96, 55, 55)\n",
    "        x = self.relu(conv1)\n",
    "\n",
    "        x = self.pool1(x)            # (96, 27, 27)\n",
    "    \n",
    "        conv2 = self.conv2(x)        # (256, 27, 27)\n",
    "        x = self.relu(conv2)\n",
    "        \n",
    "        x = self.pool2(x)            # (256, 13, 13)\n",
    "\n",
    "        conv3 = self.conv3(x)        # (384, 13, 13)\n",
    "        x = self.relu(conv3)\n",
    "     \n",
    "        conv4 = self.conv4(x)        # (384, 13, 13)\n",
    "        x = self.relu(conv4)\n",
    "\n",
    "        conv5 = self.conv5(x)        # (256, 13, 13)\n",
    "        x = self.relu(conv5)\n",
    "\n",
    "        x = self.pool3(x)            # (256, 6, 6)\n",
    "\n",
    "        fc6 = self.fc6(x)            # (4096)\n",
    "        x = self.relu(fc6)\n",
    "        x = self.dropout(x)\n",
    "        \n",
    "        fc7 = self.fc7(x)            # (4096)\n",
    "        x = self.relu(fc7)\n",
    "        x = self.dropout(x)\n",
    "\n",
    "        fc8 = self.fc8(x)            # (1000)\n",
    "\n",
    "        return conv1, conv2, conv3, conv4, conv5, fc6, fc7, fc8\n"
   ]
  },
  {
   "cell_type": "code",
   "execution_count": 3,
   "metadata": {},
   "outputs": [],
   "source": [
    "class U_Net_Decoder(nn.Module):\n",
    "    def __init__(self):\n",
    "        super(U_Net_Decoder, self).__init__()\n",
    "\n",
    "        self.rfc8 = nn.Linear(1000, 4096)\n",
    "        \n",
    "        self.rfc7 = nn.Linear(8192, 4096)\n",
    "        \n",
    "        self.rfc6 = nn.Linear(8192, 256*6*6)\n",
    "        \n",
    "        self.rpool3 = nn.ConvTranspose2d(in_channels=256, out_channels=256, kernel_size=3, stride=2)\n",
    "        self.rconv5 = nn.ConvTranspose2d(in_channels=512, out_channels=384, kernel_size=3, stride=1, padding=1, groups=2)\n",
    "        \n",
    "        self.rconv4 = nn.ConvTranspose2d(in_channels=768, out_channels=384, kernel_size=3, stride=1, padding=1, groups=2)\n",
    "        \n",
    "        self.rconv3 = nn.ConvTranspose2d(in_channels=768, out_channels=256, kernel_size=3, stride=1, padding=1)\n",
    "        \n",
    "        self.rpool2 = nn.ConvTranspose2d(in_channels=256, out_channels=256, kernel_size=3, stride=2)\n",
    "        self.rconv2 = nn.ConvTranspose2d(in_channels=512, out_channels=96, kernel_size=5, stride=1, padding=2, groups=2)\n",
    "        \n",
    "        self.rpool1 = nn.ConvTranspose2d(in_channels=96, out_channels=96, kernel_size=3, stride=2)\n",
    "\n",
    "        self.rconv1 = nn.ConvTranspose2d(in_channels=192, out_channels=3, kernel_size=11, stride=4, padding=0)\n",
    "\n",
    "        self.dropout = nn.Dropout(p=0.5)\n",
    "        self.relu = nn.ReLU()\n",
    "        self.loss_func = nn.MSELoss()\n",
    "        self.sigmoid = nn.Sigmoid()\n",
    "\n",
    "    def forward(self, conv1, conv2, conv3, conv4, conv5, fc6, fc7, fc8):\n",
    "\n",
    "        x = self.rfc8(fc8)                # (4096)\n",
    "        x = torch.cat((x, fc7), dim=1)    # (8192)\n",
    "        x = self.relu(x)\n",
    "        x = self.dropout(x)\n",
    "\n",
    "        x = self.rfc7(x)                  # (4096)\n",
    "        x = torch.cat((x, fc6), dim=1)    # (8192)\n",
    "        x = self.relu(x)\n",
    "        x = self.dropout(x)\n",
    "\n",
    "        x = self.rfc6(x)                  # (256*6*6)\n",
    "        x = self.relu(x)\n",
    "        x = self.dropout(x)\n",
    "        x = x.view(-1, 256, 6, 6)         # (256, 6, 6)\n",
    "\n",
    "        x = self.rpool3(x)                # (256, 13, 13)\n",
    "        x = torch.cat((x, conv5), dim=1)  # (512, 13, 13)\n",
    "\n",
    "        x = self.rconv5(x)                # (384, 13, 13)\n",
    "        x = torch.cat((x, conv4), dim=1)  # (768, 13, 13)\n",
    "        x = self.relu(x)\n",
    "\n",
    "        x = self.rconv4(x)                # (384, 13, 13)\n",
    "        x = torch.cat((x, conv3), dim=1)  # (768, 13, 13)\n",
    "        x = self.relu(x)\n",
    "\n",
    "        x = self.rconv3(x)                # (256, 13, 13)\n",
    "        x = self.relu(x)\n",
    "\n",
    "        x = self.rpool2(x)                # (256, 27, 27)\n",
    "        x = torch.cat((x, conv2), dim=1)  # (512, 27, 27)\n",
    "\n",
    "        x = self.rconv2(x)                # (96, 27, 27)\n",
    "        x = self.relu(x)\n",
    "\n",
    "        x = self.rpool1(x)                # (96, 55, 55)\n",
    "        x = torch.cat((x, conv1), dim=1)  # (192, 55, 55)\n",
    "\n",
    "        x = self.rconv1(x)                # (3, 227, 227)\n",
    "        x = self.sigmoid(x)      \n",
    "\n",
    "        return x\n",
    "\n",
    "    def loss(self, x, x_recon):\n",
    "\n",
    "        loss = self.loss_func(x, x_recon)\n",
    "\n",
    "        return loss\n"
   ]
  },
  {
   "cell_type": "code",
   "execution_count": 6,
   "metadata": {},
   "outputs": [],
   "source": [
    "model_dir = '/home/shunosuga/data/model/u_net'\n",
    "\n",
    "device = torch.device('cuda' if torch.cuda.is_available() else 'cpu')\n",
    "\n",
    "encoder = U_Net_Encoder().to(device)\n",
    "decoder = U_Net_Decoder().to(device)\n"
   ]
  },
  {
   "cell_type": "code",
   "execution_count": 7,
   "metadata": {},
   "outputs": [
    {
     "data": {
      "text/plain": [
       "<All keys matched successfully>"
      ]
     },
     "execution_count": 7,
     "metadata": {},
     "output_type": "execute_result"
    }
   ],
   "source": [
    "encoder.load_state_dict(torch.load(os.path.join(model_dir, 'encoder')))\n",
    "decoder.load_state_dict(torch.load(os.path.join(model_dir, 'decoder')))"
   ]
  },
  {
   "cell_type": "code",
   "execution_count": 8,
   "metadata": {},
   "outputs": [],
   "source": [
    "image_dir = '/home/shunosuga/data/image_deeprecon'\n",
    "featrue_dir = '/home/shunosuga/data/features/u_net'"
   ]
  },
  {
   "cell_type": "code",
   "execution_count": 9,
   "metadata": {},
   "outputs": [
    {
     "name": "stdout",
     "output_type": "stream",
     "text": [
      "(1200, 227, 227, 3) (50, 227, 227, 3)\n"
     ]
    }
   ],
   "source": [
    "# Load images which were used in deeprecon experiment.\n",
    "\n",
    "train_recon = np.load(os.path.join(image_dir, 'train_images.npy'))\n",
    "test_recon = np.load(os.path.join(image_dir, 'test_images.npy'))\n",
    "\n",
    "print(train_recon.shape, test_recon.shape)"
   ]
  },
  {
   "cell_type": "code",
   "execution_count": 10,
   "metadata": {},
   "outputs": [
    {
     "name": "stdout",
     "output_type": "stream",
     "text": [
      "torch.Size([1200, 3, 227, 227]) torch.Size([50, 3, 227, 227])\n"
     ]
    }
   ],
   "source": [
    "train_recon_torch = torch.Tensor(train_recon)\n",
    "train_recon_torch = train_recon_torch / 255\n",
    "train_recon_torch = train_recon_torch.permute(0, 3, 1, 2)\n",
    "\n",
    "test_recon_torch = torch.Tensor(test_recon)\n",
    "test_recon_torch = test_recon_torch / 255\n",
    "test_recon_torch = test_recon_torch.permute(0, 3, 1, 2)\n",
    "\n",
    "print(train_recon_torch.size(), test_recon_torch.size())"
   ]
  },
  {
   "cell_type": "code",
   "execution_count": 11,
   "metadata": {},
   "outputs": [],
   "source": [
    "conv1, conv2, conv3, conv4, conv5, fc6, fc7, fc8 = encoder(train_recon_torch.to(device))\n",
    "\n",
    "# save features in /home/shunosuga/data/features/u_net/layer/train.npy\n",
    "\n",
    "conv1, conv2, conv3, conv4, conv5, fc6, fc7, fc8 = encoder(test_recon_torch.to(device))\n",
    "\n",
    "# save features in /home/shunosuga/data/features/u_net/layer/test.npy"
   ]
  }
 ],
 "metadata": {
  "interpreter": {
   "hash": "bc778d4ba8bf4c7cf8b5578a526f983b5f0c4aa89cc411f87dfae3cc8028cbac"
  },
  "kernelspec": {
   "display_name": "Python 3.7.9 64-bit ('py37': conda)",
   "name": "python3"
  },
  "language_info": {
   "codemirror_mode": {
    "name": "ipython",
    "version": 3
   },
   "file_extension": ".py",
   "mimetype": "text/x-python",
   "name": "python",
   "nbconvert_exporter": "python",
   "pygments_lexer": "ipython3",
   "version": "3.7.9"
  },
  "orig_nbformat": 4
 },
 "nbformat": 4,
 "nbformat_minor": 2
}
