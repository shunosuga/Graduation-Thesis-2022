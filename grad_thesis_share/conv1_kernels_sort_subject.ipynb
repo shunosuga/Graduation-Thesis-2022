{
 "cells": [
  {
   "cell_type": "code",
   "execution_count": 1,
   "metadata": {},
   "outputs": [],
   "source": [
    "import os\n",
    "import numpy as np\n",
    "import matplotlib.pyplot as plt\n",
    "\n",
    "import bdpy\n",
    "from bdpy.dataform import Features, save_array, load_array"
   ]
  },
  {
   "cell_type": "code",
   "execution_count": 2,
   "metadata": {},
   "outputs": [],
   "source": [
    "#/home/share/data/contents_shared/ImageNetTest/derivatives/decoded_features/deeprecon_fmriprep_rep5_500voxel_allunits_fastl2lir_alpha100/prediction_accuracy/caffe/bvlc_reference_caffenet/conv1/AM/VC\n",
    "layers = ['conv1']\n",
    "\n",
    "caffe_pc_dir = '/home/share/data/contents_shared/ImageNetTest/derivatives/decoded_features/deeprecon_fmriprep_rep5_500voxel_allunits_fastl2lir_alpha100/prediction_accuracy/caffe/bvlc_reference_caffenet'\n",
    "\n",
    "roi = 'VC'"
   ]
  },
  {
   "cell_type": "code",
   "execution_count": 3,
   "metadata": {},
   "outputs": [
    {
     "name": "stderr",
     "output_type": "stream",
     "text": [
      "/home/python/anaconda3-2020.11/envs/py37/lib/python3.7/site-packages/bdpy/dataform/sparse.py:20: H5pyDeprecationWarning: dataset.value has been deprecated. Use dataset[()] instead.\n",
      "  methods = [attr for attr in dir(f[key]) if callable(getattr(f[key], str(attr)))]\n",
      "/home/python/anaconda3-2020.11/envs/py37/lib/python3.7/site-packages/bdpy/dataform/sparse.py:25: H5pyDeprecationWarning: dataset.value has been deprecated. Use dataset[()] instead.\n",
      "  elif type(f[key].value) == np.ndarray:\n"
     ]
    }
   ],
   "source": [
    "AM_caffe_pc_list = []\n",
    "\n",
    "for lay in layers:\n",
    "    pc = load_array(os.path.join(caffe_pc_dir, lay, 'AM', roi, 'accuracy.mat'), key='accuracy')\n",
    "    AM_caffe_pc_list.append(pc)\n",
    "\n",
    "ES_caffe_pc_list = []\n",
    "\n",
    "for lay in layers:\n",
    "    pc = load_array(os.path.join(caffe_pc_dir, lay, 'ES', roi, 'accuracy.mat'), key='accuracy')\n",
    "    ES_caffe_pc_list.append(pc)\n",
    "\n",
    "TH_caffe_pc_list = []\n",
    "\n",
    "for lay in layers:\n",
    "    pc = load_array(os.path.join(caffe_pc_dir, lay, 'TH', roi, 'accuracy.mat'), key='accuracy')\n",
    "    TH_caffe_pc_list.append(pc)"
   ]
  },
  {
   "cell_type": "code",
   "execution_count": 4,
   "metadata": {},
   "outputs": [],
   "source": [
    "caffe_pc_mean = []\n",
    "\n",
    "for i in range(1):\n",
    "    lay = []\n",
    "    lay.append(AM_caffe_pc_list[i])\n",
    "    lay.append(ES_caffe_pc_list[i])\n",
    "    lay.append(TH_caffe_pc_list[i])\n",
    "\n",
    "    lay = np.array(lay)\n",
    "    caffe_pc_mean.append(np.mean(lay, axis=0))"
   ]
  },
  {
   "cell_type": "code",
   "execution_count": 5,
   "metadata": {},
   "outputs": [],
   "source": [
    "caffe_pc_mean = caffe_pc_mean[0]"
   ]
  },
  {
   "cell_type": "code",
   "execution_count": 6,
   "metadata": {},
   "outputs": [],
   "source": [
    "unet_pc_dir = '/home/shunosuga/data/decoded_features/deeprecon_unet/prediction_accuracy'"
   ]
  },
  {
   "cell_type": "code",
   "execution_count": 7,
   "metadata": {},
   "outputs": [],
   "source": [
    "TH_unet_pc_list = []\n",
    "\n",
    "for lay in layers:\n",
    "    pc = load_array(os.path.join(unet_pc_dir, 'u_net', lay, 'TH', 'ROI_VC', 'profile_correlation.mat'), key='profile_correlation')\n",
    "    TH_unet_pc_list.append(pc)\n",
    "\n",
    "AM_unet_pc_list = []\n",
    "\n",
    "for lay in layers:\n",
    "    pc = load_array(os.path.join(unet_pc_dir, 'caffenet', lay, 'AM', 'ROI_VC', 'profile_correlation.mat'), key='profile_correlation')\n",
    "    AM_unet_pc_list.append(pc)\n",
    "\n",
    "ES_unet_pc_list = []\n",
    "\n",
    "for lay in layers:\n",
    "    pc = load_array(os.path.join(unet_pc_dir, 'caffenet', lay, 'ES', 'ROI_VC', 'profile_correlation.mat'), key='profile_correlation')\n",
    "    ES_unet_pc_list.append(pc)"
   ]
  },
  {
   "cell_type": "code",
   "execution_count": 8,
   "metadata": {},
   "outputs": [],
   "source": [
    "unet_pc_mean = []\n",
    "\n",
    "for i in range(1):\n",
    "    lay = []\n",
    "    lay.append(AM_unet_pc_list[i])\n",
    "    lay.append(ES_unet_pc_list[i])\n",
    "    lay.append(TH_unet_pc_list[i])\n",
    "\n",
    "    lay = np.array(lay)\n",
    "    unet_pc_mean.append(np.mean(lay, axis=0))"
   ]
  },
  {
   "cell_type": "code",
   "execution_count": 9,
   "metadata": {},
   "outputs": [],
   "source": [
    "unet_pc_mean = unet_pc_mean[0]"
   ]
  },
  {
   "cell_type": "code",
   "execution_count": 10,
   "metadata": {},
   "outputs": [],
   "source": [
    "caffe_abs_pc_dir0 = '/home/shunosuga/data/decoded_features/deeprecon_caffenet/prediction_accuracy/caffenet/conv1/'\n",
    "\n",
    "AM_caffe_pc_list_ = []\n",
    "\n",
    "for lay in layers:\n",
    "    pc = load_array(os.path.join(caffe_abs_pc_dir0, 'AM', 'ROI_VC', 'profile_correlation.mat'), key='profile_correlation')\n",
    "    AM_caffe_pc_list_.append(pc)\n",
    "\n",
    "ES_caffe_pc_list_ = []\n",
    "\n",
    "for lay in layers:\n",
    "    pc = load_array(os.path.join(caffe_abs_pc_dir0, 'ES', 'ROI_VC', 'profile_correlation.mat'), key='profile_correlation')\n",
    "    ES_caffe_pc_list_.append(pc)\n",
    "\n",
    "TH_caffe_pc_list_ = []\n",
    "\n",
    "for lay in layers:\n",
    "    pc = load_array('/home/shunosuga/data/decoded_features/deeprecon_caffenet_abs/prediction_accuracy/caffenet/conv1/TH/ROI_VC/profile_correlation.mat', key='profile_correlation')\n",
    "    TH_caffe_pc_list_.append(pc)\n",
    "\n"
   ]
  },
  {
   "cell_type": "code",
   "execution_count": 11,
   "metadata": {},
   "outputs": [],
   "source": [
    "caffe_abs_pc_mean = []\n",
    "\n",
    "for i in range(1):\n",
    "    lay = []\n",
    "    lay.append(AM_caffe_pc_list_[i])\n",
    "    lay.append(ES_caffe_pc_list_[i])\n",
    "    lay.append(TH_caffe_pc_list_[i])\n",
    "\n",
    "    lay = np.array(lay)\n",
    "    caffe_abs_pc_mean.append(np.mean(lay, axis=0))"
   ]
  },
  {
   "cell_type": "code",
   "execution_count": 12,
   "metadata": {},
   "outputs": [],
   "source": [
    "caffe_abs_pc_mean = caffe_abs_pc_mean[0]"
   ]
  },
  {
   "cell_type": "code",
   "execution_count": 13,
   "metadata": {},
   "outputs": [],
   "source": [
    "unet_abs_pc_dir = '/home/shunosuga/data/decoded_features/deeprecon_unet_abs/prediction_accuracy/u_net/conv1'\n",
    "\n",
    "TH_unet_pc_list_ = []\n",
    "\n",
    "for lay in layers:\n",
    "    pc = load_array(os.path.join(unet_abs_pc_dir, 'TH', 'ROI_VC', 'profile_correlation.mat'), key='profile_correlation')\n",
    "    TH_unet_pc_list_.append(pc)\n",
    "\n",
    "AM_unet_pc_list_ = []\n",
    "\n",
    "for lay in layers:\n",
    "    pc = load_array(os.path.join(unet_abs_pc_dir, 'AM', 'ROI_VC', 'profile_correlation.mat'), key='profile_correlation')\n",
    "    AM_unet_pc_list_.append(pc)\n",
    "\n",
    "ES_unet_pc_list_ = []\n",
    "\n",
    "for lay in layers:\n",
    "    pc = load_array(os.path.join(unet_abs_pc_dir, 'ES', 'ROI_VC', 'profile_correlation.mat'), key='profile_correlation')\n",
    "    ES_unet_pc_list_.append(pc)"
   ]
  },
  {
   "cell_type": "code",
   "execution_count": 14,
   "metadata": {},
   "outputs": [],
   "source": [
    "unet_abs_pc_mean = []\n",
    "\n",
    "for i in range(1):\n",
    "    lay = []\n",
    "    lay.append(AM_unet_pc_list_[i])\n",
    "    lay.append(ES_unet_pc_list_[i])\n",
    "    lay.append(TH_unet_pc_list_[i])\n",
    "\n",
    "    lay = np.array(lay)\n",
    "    unet_abs_pc_mean.append(np.mean(lay, axis=0))"
   ]
  },
  {
   "cell_type": "code",
   "execution_count": 15,
   "metadata": {},
   "outputs": [],
   "source": [
    "unet_abs_pc_mean = unet_abs_pc_mean[0]"
   ]
  },
  {
   "cell_type": "code",
   "execution_count": 16,
   "metadata": {},
   "outputs": [
    {
     "data": {
      "text/plain": [
       "(1, 96, 55, 55)"
      ]
     },
     "execution_count": 16,
     "metadata": {},
     "output_type": "execute_result"
    }
   ],
   "source": [
    "unet_abs_pc_mean.shape"
   ]
  },
  {
   "cell_type": "code",
   "execution_count": 17,
   "metadata": {},
   "outputs": [],
   "source": [
    "# caffe_pc_mean caffe_abs_pc_mean unet_pc_mean unet_abs_pc_mean"
   ]
  },
  {
   "cell_type": "code",
   "execution_count": 18,
   "metadata": {},
   "outputs": [
    {
     "name": "stdout",
     "output_type": "stream",
     "text": [
      "(96,) (96,) (96,) (96,)\n"
     ]
    }
   ],
   "source": [
    "caffe_pc_mean_ = np.mean(caffe_pc_mean.squeeze().reshape(96, -1), axis=1)\n",
    "caffe_abs_pc_mean_ = np.mean(caffe_abs_pc_mean.squeeze().reshape(96, -1), axis=1)\n",
    "unet_pc_mean_ = np.mean(unet_pc_mean.squeeze().reshape(96, -1), axis=1)\n",
    "unet_abs_pc_mean_ = np.mean(unet_abs_pc_mean.squeeze().reshape(96, -1), axis=1)\n",
    "\n",
    "print(caffe_pc_mean_.shape, caffe_abs_pc_mean_.shape, unet_pc_mean_.shape, unet_abs_pc_mean_.shape)"
   ]
  },
  {
   "cell_type": "code",
   "execution_count": 19,
   "metadata": {},
   "outputs": [],
   "source": [
    "mean_caffe_raw_s = np.sort(caffe_pc_mean_)\n",
    "ind_caffe = np.argsort(caffe_pc_mean_)\n",
    "mean_caffe_abs_s = caffe_abs_pc_mean_[ind_caffe]\n",
    "\n",
    "mean_unet_raw_s = np.sort(unet_pc_mean_)\n",
    "ind_unet = np.argsort(unet_pc_mean_)\n",
    "mean_unet_abs_s = unet_abs_pc_mean_[ind_unet]"
   ]
  },
  {
   "cell_type": "code",
   "execution_count": 20,
   "metadata": {},
   "outputs": [
    {
     "data": {
      "text/plain": [
       "array([21, 38, 31, 12, 41, 37, 13,  5, 30, 16, 22,  1, 53, 19, 27, 36,  9,\n",
       "       40,  7, 11, 28, 20, 35, 23, 43, 34, 25, 47, 69, 32, 17,  0,  8, 14,\n",
       "       18,  4, 74, 70, 91, 60, 66, 92, 54, 59, 95, 58, 86, 88, 90, 50, 77,\n",
       "       68, 87, 33, 26, 29, 82,  3, 15, 71, 75, 44,  2, 39, 78, 67, 81,  6,\n",
       "       79, 49, 63, 55, 73, 93, 89, 62, 46, 94, 85, 80, 10, 56, 83, 61, 65,\n",
       "       76, 57, 52, 51, 45, 42, 24, 64, 48, 84, 72])"
      ]
     },
     "execution_count": 20,
     "metadata": {},
     "output_type": "execute_result"
    }
   ],
   "source": [
    "ind_caffe"
   ]
  },
  {
   "cell_type": "code",
   "execution_count": null,
   "metadata": {},
   "outputs": [],
   "source": [
    "np.save('/home/shunosuga/data/sotsuron/kernel_conv1_sort/ind_caffe', ind_caffe)\n",
    "np.save('/home/shunosuga/data/sotsuron/kernel_conv1_sort/ind_unet', ind_unet)"
   ]
  },
  {
   "cell_type": "code",
   "execution_count": 27,
   "metadata": {},
   "outputs": [
    {
     "data": {
      "image/png": "[encoded data removed]",
      "text/plain": [
       "<Figure size 432x288 with 1 Axes>"
      ]
     },
     "metadata": {
      "needs_background": "light"
     },
     "output_type": "display_data"
    },
    {
     "data": {
      "image/png": "[encoded data removed]",
      "text/plain": [
       "<Figure size 432x288 with 1 Axes>"
      ]
     },
     "metadata": {
      "needs_background": "light"
     },
     "output_type": "display_data"
    }
   ],
   "source": [
    "plt.plot(range(96), mean_caffe_raw_s, label='raw')\n",
    "plt.plot(range(96), mean_caffe_abs_s, label='abs')\n",
    "\n",
    "plt.show()\n",
    "\n",
    "plt.plot(range(96), mean_unet_raw_s, label='raw')\n",
    "plt.plot(range(96), mean_unet_abs_s, label='abs')\n",
    "\n",
    "plt.show()"
   ]
  },
  {
   "cell_type": "code",
   "execution_count": 28,
   "metadata": {},
   "outputs": [],
   "source": [
    "fjid = [mean_caffe_raw_s, ind_caffe, mean_caffe_abs_s, mean_unet_raw_s, ind_unet, mean_unet_abs_s]\n",
    "nop = ['mean_caffe_raw_s', 'ind_caffe', 'mean_caffe_abs_s', 'mean_unet_raw_s', 'ind_unet', 'mean_unet_abs_s']\n",
    "\n",
    "dir = '/home/shunosuga/data/sotsuron/kernel_conv1_sort'\n"
   ]
  },
  {
   "cell_type": "code",
   "execution_count": null,
   "metadata": {},
   "outputs": [],
   "source": []
  }
 ],
 "metadata": {
  "interpreter": {
   "hash": "bc778d4ba8bf4c7cf8b5578a526f983b5f0c4aa89cc411f87dfae3cc8028cbac"
  },
  "kernelspec": {
   "display_name": "Python 3.7.9 64-bit ('py37': conda)",
   "language": "python",
   "name": "python3"
  },
  "language_info": {
   "codemirror_mode": {
    "name": "ipython",
    "version": 3
   },
   "file_extension": ".py",
   "mimetype": "text/x-python",
   "name": "python",
   "nbconvert_exporter": "python",
   "pygments_lexer": "ipython3",
   "version": "3.7.9"
  },
  "orig_nbformat": 4
 },
 "nbformat": 4,
 "nbformat_minor": 2
}
